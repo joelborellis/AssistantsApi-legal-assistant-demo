{
 "cells": [
  {
   "cell_type": "code",
   "execution_count": null,
   "metadata": {},
   "outputs": [],
   "source": [
    "import tiktoken\n",
    "from langchain.text_splitter import RecursiveCharacterTextSplitter\n",
    "import uuid\n",
    "from time import time\n",
    "\n",
    "# method to get the token length with the encoding\n",
    "tokenizer_name = tiktoken.encoding_for_model(\"gpt-4-1106-preview\")\n",
    "tokenizer = tiktoken.get_encoding(tokenizer_name.name)\n",
    "\n",
    "# create the length function to be used by text_splitter\n",
    "def tiktoken_len(text):\n",
    "    tokens = tokenizer.encode(text, disallowed_special=())\n",
    "    return len(tokens)\n",
    "\n",
    "text_splitter = RecursiveCharacterTextSplitter(\n",
    "    chunk_size=8000, # this depends on which model you might use, for example with the 16k GPT models setting this to 8k is reasonable and maybe higher\n",
    "    chunk_overlap=100,\n",
    "    length_function=tiktoken_len,\n",
    "    separators=[\"\\n\\n\", \"\\n\", \" \", \"\"],\n",
    ")\n",
    "\n",
    "# get a UUID - URL safe, Base64\n",
    "def get_a_uuid():\n",
    "    return str(uuid.uuid4())\n",
    "\n",
    "#function to return the number of tokens in a string\n",
    "def num_tokens_from_string(string: str, model_name: str) -> int:\n",
    "    \"\"\"Returns the number of tokens in a text string.\"\"\"\n",
    "    #encoding = tiktoken.get_encoding(encoding_name)\n",
    "    encoding = tiktoken.encoding_for_model(model_name)\n",
    "    token_integers = encoding.encode(string)\n",
    "    num_tokens = len(token_integers)\n",
    "    tokens_string = [encoding.decode_single_token_bytes(token) for token in token_integers]\n",
    "\n",
    "    return num_tokens, tokens_string\n",
    "\n",
    "def open_file(filepath):\n",
    "        with open(filepath, \"r\", encoding=\"utf-8\", errors=\"ignore\") as infile:\n",
    "            return infile.read()\n",
    "        \n",
    "def save_file(filepath, content):\n",
    "    with open(filepath, 'w', encoding='utf-8') as outfile:\n",
    "        outfile.write(content)"
   ]
  },
  {
   "cell_type": "code",
   "execution_count": null,
   "metadata": {},
   "outputs": [],
   "source": [
    "from openai import OpenAI\n",
    "from dotenv import load_dotenv\n",
    "import os\n",
    "\n",
    "load_dotenv()\n",
    "\n",
    "client = OpenAI(api_key=os.environ.get(\"OPENAI_KEY\"))\n",
    "\n",
    "def chatbot(conversation):\n",
    "        try:\n",
    "            response = client.chat.completions.create(\n",
    "                model=\"gpt-4-1106-preview\",\n",
    "                messages=conversation,\n",
    "                stream=False,\n",
    "                max_tokens=2000,\n",
    "                temperature=0,\n",
    "            )\n",
    "            text = response.choices[0].message.content\n",
    "            tokens = response.usage.total_tokens\n",
    "            return text, tokens\n",
    "        except Exception as yikes:\n",
    "            print(f'\\n\\nError communicating with OpenAI: \"{yikes}\"')\n",
    "            exit(0)"
   ]
  },
  {
   "cell_type": "code",
   "execution_count": null,
   "metadata": {},
   "outputs": [],
   "source": [
    "case = open_file('./data/NYT_Complaint_Dec2023.txt').replace('\\n\\n', '\\n')\n",
    "num_tokens, tokens_string = num_tokens_from_string(case, 'gpt-4')\n",
    "print(num_tokens)\n",
    "#print(tokens_string)"
   ]
  },
  {
   "cell_type": "code",
   "execution_count": null,
   "metadata": {},
   "outputs": [],
   "source": [
    "# Plantiff notes\n",
    "conversation = list()\n",
    "conversation.append({'role': 'system', 'content': open_file('./plaintiff/system_01_notes.md')})\n",
    "conversation.append({'role': 'user', 'content': case})\n",
    "#print(conversation)\n",
    "notes, tokens = chatbot(conversation)\n",
    "\n",
    "save_file('./plaintiff/log_%s_notes.txt' % time(), notes)"
   ]
  },
  {
   "cell_type": "code",
   "execution_count": null,
   "metadata": {},
   "outputs": [],
   "source": [
    "# Plaintiff opening statement\n",
    "conversation = list()\n",
    "conversation.append({'role': 'system', 'content': open_file('./plaintiff/system_02_opening.md')})\n",
    "conversation.append({'role': 'user', 'content': notes})\n",
    "print(conversation)\n",
    "opening, tokens = chatbot(conversation)\n",
    "\n",
    "save_file('./plaintiff/log_%s_opening.txt' % time(), opening)"
   ]
  },
  {
   "cell_type": "code",
   "execution_count": null,
   "metadata": {},
   "outputs": [],
   "source": [
    "# Plaintiff opening statement with expertise\n",
    "conversation = list()\n",
    "conversation.append({'role': 'system', 'content': open_file('./plaintiff/system_03_opening_with_expertise.md').replace('<<CONTEXT>>', open_file('./youtube/OpenAI sued by New York Times - Copyright Lawyer and Google Engineering Director React.txt'))})\n",
    "conversation.append({'role': 'user', 'content': open_file('./plaintiff/log_1704557483.547313_notes.txt')})\n",
    "print(conversation)\n",
    "opening, tokens = chatbot(conversation)\n",
    "\n",
    "save_file('./plaintiff/log_%s_opening_with_expertise.txt' % time(), opening)"
   ]
  },
  {
   "cell_type": "code",
   "execution_count": null,
   "metadata": {},
   "outputs": [],
   "source": [
    "# Text to speech\n",
    "from pathlib import Path\n",
    "\n",
    "speech_file_path = Path('./').parent / \"opening.mp3\"\n",
    "\n",
    "response = client.audio.speech.create(\n",
    "  model=\"tts-1\",\n",
    "  voice=\"alloy\",\n",
    "  input=open_file('./plaintiff/log_1704944756.305965_opening.txt')\n",
    ")\n",
    "\n",
    "response.stream_to_file(speech_file_path)"
   ]
  }
 ],
 "metadata": {
  "kernelspec": {
   "display_name": ".venv",
   "language": "python",
   "name": "python3"
  },
  "language_info": {
   "codemirror_mode": {
    "name": "ipython",
    "version": 3
   },
   "file_extension": ".py",
   "mimetype": "text/x-python",
   "name": "python",
   "nbconvert_exporter": "python",
   "pygments_lexer": "ipython3",
   "version": "3.10.9"
  },
  "orig_nbformat": 4
 },
 "nbformat": 4,
 "nbformat_minor": 2
}
