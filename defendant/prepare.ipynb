{
 "cells": [
  {
   "cell_type": "code",
   "execution_count": 20,
   "metadata": {},
   "outputs": [],
   "source": [
    "import tiktoken\n",
    "from langchain.text_splitter import RecursiveCharacterTextSplitter\n",
    "import uuid\n",
    "from time import time\n",
    "import json\n",
    "\n",
    "# method to get the token length with the encoding\n",
    "tokenizer_name = tiktoken.encoding_for_model(\"gpt-4-1106-preview\")\n",
    "tokenizer = tiktoken.get_encoding(tokenizer_name.name)\n",
    "\n",
    "# create the length function to be used by text_splitter\n",
    "def tiktoken_len(text):\n",
    "    tokens = tokenizer.encode(text, disallowed_special=())\n",
    "    return len(tokens)\n",
    "\n",
    "text_splitter = RecursiveCharacterTextSplitter(\n",
    "    chunk_size=8000, # this depends on which model you might use, for example with the 16k GPT models setting this to 8k is reasonable and maybe higher\n",
    "    chunk_overlap=100,\n",
    "    length_function=tiktoken_len,\n",
    "    separators=[\"\\n\\n\", \"\\n\", \" \", \"\"],\n",
    ")\n",
    "\n",
    "# get a UUID - URL safe, Base64\n",
    "def get_a_uuid():\n",
    "    return str(uuid.uuid4())\n",
    "\n",
    "#function to return the number of tokens in a string\n",
    "def num_tokens_from_string(string: str, model_name: str) -> int:\n",
    "    \"\"\"Returns the number of tokens in a text string.\"\"\"\n",
    "    #encoding = tiktoken.get_encoding(encoding_name)\n",
    "    encoding = tiktoken.encoding_for_model(model_name)\n",
    "    token_integers = encoding.encode(string)\n",
    "    num_tokens = len(token_integers)\n",
    "    tokens_string = [encoding.decode_single_token_bytes(token) for token in token_integers]\n",
    "\n",
    "    return num_tokens, tokens_string\n",
    "\n",
    "def open_file(filepath):\n",
    "        with open(filepath, \"r\", encoding=\"utf-8\", errors=\"ignore\") as infile:\n",
    "            return infile.read()\n",
    "        \n",
    "def save_file(filepath, content):\n",
    "    with open(filepath, 'w', encoding='utf-8') as outfile:\n",
    "        outfile.write(content)"
   ]
  },
  {
   "cell_type": "code",
   "execution_count": 21,
   "metadata": {},
   "outputs": [],
   "source": [
    "from openai import OpenAI\n",
    "from dotenv import load_dotenv\n",
    "import os\n",
    "\n",
    "load_dotenv()\n",
    "\n",
    "client = OpenAI(api_key=os.environ.get(\"OPENAI_KEY\"))\n",
    "\n",
    "def chatbot(conversation):\n",
    "        try:\n",
    "            response = client.chat.completions.create(\n",
    "                model=\"gpt-4-1106-preview\",\n",
    "                messages=conversation,\n",
    "                stream=False,\n",
    "                max_tokens=2000,\n",
    "                temperature=0,\n",
    "            )\n",
    "            text = response.choices[0].message.content\n",
    "            tokens = response.usage.total_tokens\n",
    "            return text, tokens\n",
    "        except Exception as yikes:\n",
    "            print(f'\\n\\nError communicating with OpenAI: \"{yikes}\"')\n",
    "            exit(0)"
   ]
  },
  {
   "cell_type": "code",
   "execution_count": 22,
   "metadata": {},
   "outputs": [
    {
     "name": "stdout",
     "output_type": "stream",
     "text": [
      "23486\n"
     ]
    }
   ],
   "source": [
    "case = open_file('../data/NYT_Complaint_Dec2023.txt').replace('\\n\\n', '\\n')\n",
    "num_tokens, tokens_string = num_tokens_from_string(case, 'gpt-4')\n",
    "print(num_tokens)\n",
    "#print(tokens_string)"
   ]
  },
  {
   "cell_type": "code",
   "execution_count": 23,
   "metadata": {},
   "outputs": [],
   "source": [
    "# Defendant notes\n",
    "conversation = list()\n",
    "conversation.append({'role': 'system', 'content': open_file('./system_01_notes.md')})\n",
    "conversation.append({'role': 'user', 'content': case})\n",
    "#print(conversation)\n",
    "notes, tokens = chatbot(conversation)\n",
    "\n",
    "save_file('./log_%s_notes.txt' % time(), notes)"
   ]
  },
  {
   "cell_type": "code",
   "execution_count": 24,
   "metadata": {},
   "outputs": [
    {
     "data": {
      "text/plain": [
       "'- Significant time facts:\\n  - The New York Times has been producing journalism for over 170 years.\\n  - OpenAI was formed in December 2015.\\n  - OpenAI LP was created in March 2019 as a for-profit entity.\\n  - ChatGPT was released in November 2022.\\n  - The Times reached out to Microsoft and OpenAI in April 2023 regarding intellectual property concerns.\\n  - GPT-4 was released in 2023.\\n  - Microsoft\\'s investment in OpenAI reached $13 billion.\\n  - The Times filed this complaint on December 27, 2023.\\n\\n- All characters in the case:\\n  - Plaintiff: The New York Times Company (\"The Times\")\\n  - Defendants: Microsoft Corporation and various OpenAI entities (OpenAI, Inc., OpenAI LP, OpenAI GP LLC, OpenAI LLC, OpenAI OpCo LLC, OpenAI Global LLC, OAI Corporation, LLC, OpenAI Holdings, LLC)\\n  - Attorneys: Susman Godfrey LLP and Rothwell, Figg, Ernst & Manbeck, P.C.\\n\\n- Conflicts:\\n  - The Times alleges that the defendants have unlawfully used its copyrighted work to create artificial intelligence products that compete with it.\\n  - Defendants\\' GenAI tools are claimed to rely on LLMs built by copying The Times\\'s copyrighted content without permission or payment.\\n  - The Times argues that the defendants\\' conduct is not protected as \"fair use\" and that it threatens The Times\\'s ability to provide its service and undermines its relationship with its readers.\\n\\n- Consequences:\\n  - The Times seeks billions of dollars in statutory and actual damages for the alleged unlawful copying and use of its works.\\n  - The Times demands a permanent injunction against the defendants to stop the alleged infringing conduct.\\n  - The Times requests the destruction of all GPT or other LLM models and training sets that incorporate Times Works.\\n\\n- Analogies or metaphors:\\n  - The complaint likens the importance of The Times\\'s journalism to a beacon of truth in a \"damaged information ecosystem\" awash in unreliable content.\\n  - The Times\\'s investment in journalism is compared to the defendants\\' alleged \"free-ride\" on this investment to boost their own products and market capitalization.\\n\\n- Key arguments on why the defendant should win the case:\\n  - The defendants may argue that their use of The Times\\'s content is a transformative use that falls under the fair use doctrine, serving a new purpose in the context of AI and machine learning.\\n  - The defendants could contend that the LLMs do not simply replicate The Times\\'s content but generate new, independent content that is not a substitute for the original.\\n  - The defendants might assert that the training of AI models with publicly available data is a common practice in the tech industry and is necessary for the advancement of AI technology.\\n  - The defendants may argue that The Times has not sufficiently demonstrated specific instances of direct copying that would constitute copyright infringement.\\n  - The defendants could challenge the claim of vicarious and contributory infringement by showing they did not have the requisite knowledge or control over the alleged direct infringement.\\n  - The defendants might dispute the claim of trademark dilution by demonstrating that their use of The Times\\'s marks does not tarnish or diminish the value of the marks.\\n  - The defendants may also argue that The Times has not established a direct causal link between the alleged infringement and any actual damages suffered.'"
      ]
     },
     "execution_count": 24,
     "metadata": {},
     "output_type": "execute_result"
    }
   ],
   "source": [
    "notes"
   ]
  },
  {
   "cell_type": "code",
   "execution_count": 26,
   "metadata": {},
   "outputs": [],
   "source": [
    "# Defendant notes with transcripts\n",
    "conversation = list()\n",
    "conversation.append({'role': 'system', 'content': open_file('./system_015_research.md').replace('<<TRANSCRIPTS>>', open_file('../data/OpenAI sued by New York Times - Copyright Lawyer and Google Engineering Director React.txt'))})\n",
    "conversation.append({'role': 'user', 'content': notes})\n",
    "#print(conversation)\n",
    "research, tokens = chatbot(conversation)\n",
    "\n",
    "save_file('./log_%s_research.txt' % time(), research)"
   ]
  },
  {
   "cell_type": "code",
   "execution_count": 29,
   "metadata": {},
   "outputs": [
    {
     "name": "stdout",
     "output_type": "stream",
     "text": [
      "[{'role': 'system', 'content': '#  MISSION\\nYou are a lawyer preparing opening statements for a civil case against your client. Your primary job is to generate thorough opening arguments for your client.\\n\\n#  CONTEXT\\nYou are writing the opening arguments on behalf of the defendant(s).  Your opening statement will ultimtely be used in front of the judge and jury during the civil trial.\\n\\n#  RULES\\n- Tell the story in the present tense\\n- When possible tell the story in the first person\\n- Talk about sequence of events and not facts\\n- Simplified language by aiming for an eighth grade level.\\n- Avoid the word “client”  every time you use the client word it says that your lawyer getting paid for standing there talking about your case. Instead use names and touches of humanity that are relevant to make individuals real people.\\n\\n#  INPUT\\nThe USER will provide you with legal notes that support the defendants position.\\n\\n#  OUTPUT\\nYour output will be several paragraphs of an opening argument.  Do not use flowery language, remember your arguments will be read in front a jury so use easy to understand language.\\n\\n'}, {'role': 'user', 'content': '- Significant time facts:\\n  - The New York Times has been producing journalism for over 170 years.\\n  - OpenAI was formed in December 2015.\\n  - OpenAI LP was created in March 2019 as a for-profit entity.\\n  - ChatGPT was released in November 2022.\\n  - The Times reached out to Microsoft and OpenAI in April 2023 regarding intellectual property concerns.\\n  - GPT-4 was released in 2023.\\n  - Microsoft\\'s investment in OpenAI reached $13 billion.\\n  - The Times filed this complaint on December 27, 2023.\\n\\n- All characters in the case:\\n  - Plaintiff: The New York Times Company (\"The Times\")\\n  - Defendants: Microsoft Corporation and various OpenAI entities (OpenAI, Inc., OpenAI LP, OpenAI GP LLC, OpenAI LLC, OpenAI OpCo LLC, OpenAI Global LLC, OAI Corporation, LLC, OpenAI Holdings, LLC)\\n  - Attorneys: Susman Godfrey LLP and Rothwell, Figg, Ernst & Manbeck, P.C.\\n\\n- Conflicts:\\n  - The Times alleges that the defendants have unlawfully used its copyrighted work to create artificial intelligence products that compete with it.\\n  - Defendants\\' GenAI tools are claimed to rely on LLMs built by copying The Times\\'s copyrighted content without permission or payment.\\n  - The Times argues that the defendants\\' conduct is not protected as \"fair use\" and that it threatens The Times\\'s ability to provide its service and undermines its relationship with its readers.\\n\\n- Consequences:\\n  - The Times seeks billions of dollars in statutory and actual damages for the alleged unlawful copying and use of its works.\\n  - The Times demands a permanent injunction against the defendants to stop the alleged infringing conduct.\\n  - The Times requests the destruction of all GPT or other LLM models and training sets that incorporate Times Works.\\n\\n- Analogies or metaphors:\\n  - The complaint likens the importance of The Times\\'s journalism to a beacon of truth in a \"damaged information ecosystem\" awash in unreliable content.\\n  - The Times\\'s investment in journalism is compared to the defendants\\' alleged \"free-ride\" on this investment to boost their own products and market capitalization.\\n\\n- Key arguments on why the defendant should win the case:\\n  - The defendants may argue that their use of The Times\\'s content is a transformative use that falls under the fair use doctrine, serving a new purpose in the context of AI and machine learning.\\n  - The defendants could contend that the LLMs do not simply replicate The Times\\'s content but generate new, independent content that is not a substitute for the original.\\n  - The defendants might assert that the training of AI models with publicly available data is a common practice in the tech industry and is necessary for the advancement of AI technology.\\n  - The defendants may argue that The Times has not sufficiently demonstrated specific instances of direct copying that would constitute copyright infringement.\\n  - The defendants could challenge the claim of vicarious and contributory infringement by showing they did not have the requisite knowledge or control over the alleged direct infringement.\\n  - The defendants might dispute the claim of trademark dilution by demonstrating that their use of The Times\\'s marks does not tarnish or diminish the value of the marks.\\n  - The defendants may also argue that The Times has not established a direct causal link between the alleged infringement and any actual damages suffered.\\n\\n  The podcast transcript provides additional insights and arguments that could be used to strengthen the defendant\\'s case. Here are some points that could be added or appended to the notes provided:\\n\\n- **Fair Use Defense**: The defendants are likely to raise the fair use defense, which has been successful in past cases involving web scraping for search engines. However, the extent of the content used by OpenAI may be more substantial than in previous cases, which could affect the fair use analysis.\\n\\n- **Negotiation Attempts**: The New York Times mentioned that they attempted to engage in negotiations with OpenAI, which failed. This could be used to argue that The Times was open to a licensing agreement, which OpenAI declined, leading to the lawsuit.\\n\\n- **Statutory Damages**: The New York Times may elect to pursue statutory damages, which do not require them to prove actual harm to their business, potentially simplifying their case.\\n\\n- **Injunction and Destruction of Materials**: The threat of an injunction and the destruction of infringing materials could be a significant point of leverage for The Times. However, the defendants could argue that such a remedy would be overly broad and harmful to their business.\\n\\n- **Technical Understanding of AI by the Court**: The court handling the case is savvy in copyright law and technology issues, which could influence the court\\'s understanding and decisions regarding AI and its implications.\\n\\n- **Public Interest and Amicus Briefs**: The defendants could mobilize public support and consumer rights organizations to submit amicus briefs, emphasizing the importance and utility of AI tools like ChatGPT to the public.\\n\\n- **Indirect Infringement Theories**: The defendants could challenge the indirect infringement theories by demonstrating that they have taken steps to prevent direct infringement by users, such as implementing guardrails and deduplication in their models.\\n\\n- **Substantial Non-Infringing Use**: The defendants could show that their platforms are capable of substantial non-infringing use, which could protect them from vicarious copyright infringement liability.\\n\\n- **Impact on Other Machine Learning Models**: The outcome of this case could have broader implications for the entire machine learning industry, including both proprietary and open-source models.\\n\\n- **Business Negotiations**: The lawsuit may be a result of failed business negotiations, suggesting that a successful negotiation could potentially resolve the dispute without further litigation.\\n\\n- **Training Data Sets**: The discussion on whether the use of copyrighted articles in training sets constitutes copyright infringement could set a precedent for future AI development.\\n\\nThese points should be considered when preparing the opening arguments for the defense, as they provide a comprehensive understanding of the potential legal strategies and the broader implications of the case.'}]\n"
     ]
    }
   ],
   "source": [
    "# Defendant opening statement\n",
    "conversation = list()\n",
    "conversation.append({'role': 'system', 'content': open_file('./system_02_opening.md')})\n",
    "conversation.append({'role': 'user', 'content': open_file('./log_1705269612.9351523_notes.txt')})\n",
    "print(conversation)\n",
    "opening, tokens = chatbot(conversation)\n",
    "\n",
    "save_file('./log_%s_opening.txt' % time(), opening)"
   ]
  },
  {
   "cell_type": "code",
   "execution_count": null,
   "metadata": {},
   "outputs": [],
   "source": [
    "# Text to speech\n",
    "from pathlib import Path\n",
    "\n",
    "speech_file_path = Path('./').parent / \"opening.mp3\"\n",
    "\n",
    "response = client.audio.speech.create(\n",
    "  model=\"tts-1\",\n",
    "  voice=\"nova\",\n",
    "  input=open_file('./log_1705271145.9187558_opening.txt')\n",
    ")\n",
    "\n",
    "response.stream_to_file(speech_file_path)"
   ]
  }
 ],
 "metadata": {
  "kernelspec": {
   "display_name": ".venv",
   "language": "python",
   "name": "python3"
  },
  "language_info": {
   "codemirror_mode": {
    "name": "ipython",
    "version": 3
   },
   "file_extension": ".py",
   "mimetype": "text/x-python",
   "name": "python",
   "nbconvert_exporter": "python",
   "pygments_lexer": "ipython3",
   "version": "3.10.9"
  },
  "orig_nbformat": 4
 },
 "nbformat": 4,
 "nbformat_minor": 2
}
